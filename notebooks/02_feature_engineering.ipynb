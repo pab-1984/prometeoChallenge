{
 "cells": [
  {
   "cell_type": "markdown",
   "metadata": {},
   "source": [
    "# 02_feature_engineering.ipynb\n",
    "\n",
    "# ---------------------------------------------\n",
    "# Feature Engineering - Open Banking Challenge\n",
    "# Autor: Pablo Flores\n",
    "# ---------------------------------------------"
   ]
  },
  {
   "cell_type": "code",
   "execution_count": null,
   "metadata": {},
   "outputs": [],
   "source": [
    "#1. Librerías necesarias\n",
    "import pandas as pd\n",
    "import numpy as np\n",
    "from sklearn.preprocessing import OneHotEncoder, StandardScaler\n",
    "import os\n"
   ]
  },
  {
   "cell_type": "code",
   "execution_count": null,
   "metadata": {},
   "outputs": [],
   "source": [
    "#2. Cargar dataset unificado\n",
    "df = pd.read_csv(\"data/processed/clientes_unificados.csv\")\n",
    "df.head()"
   ]
  },
  {
   "cell_type": "code",
   "execution_count": null,
   "metadata": {},
   "outputs": [],
   "source": [
    "#3. Crear variable objetivo (¿tiene seguro?)\n",
    "df[\"has_insurance\"] = df.get(\"has_insurance\", 0)  # por si no existe\n",
    "if \"has_insurance\" not in df.columns:\n",
    "    df[\"has_insurance\"] = 0\n",
    "if \"has_insurance\" in df.columns and df[\"has_insurance\"].dtype != int:\n",
    "    df[\"has_insurance\"] = df[\"has_insurance\"].astype(int)\n"
   ]
  },
  {
   "cell_type": "code",
   "execution_count": null,
   "metadata": {},
   "outputs": [],
   "source": [
    "#4. Crear nuevas features\n",
    "df[\"product_count\"] = df.filter(like=\"has_\").drop(columns=[\"has_insurance\"]).sum(axis=1)"
   ]
  },
  {
   "cell_type": "code",
   "execution_count": null,
   "metadata": {},
   "outputs": [],
   "source": [
    "# Codificar categoría favorita (top N, resto = 'other')\n",
    "top_cats = df[\"favorite_category\"].value_counts().index[:5]\n",
    "df[\"favorite_category_enc\"] = df[\"favorite_category\"].apply(lambda x: x if x in top_cats else \"other\")\n"
   ]
  },
  {
   "cell_type": "code",
   "execution_count": null,
   "metadata": {},
   "outputs": [],
   "source": [
    "\n",
    "#5. Codificar variables categóricas (one-hot encoding)\n",
    "categorical_vars = [\"income_range\", \"risk_profile\", \"favorite_category_enc\"]\n",
    "df_encoded = pd.get_dummies(df, columns=categorical_vars, drop_first=True)"
   ]
  },
  {
   "cell_type": "code",
   "execution_count": null,
   "metadata": {},
   "outputs": [],
   "source": [
    "#6. Escalar variables numéricas (opcional)\n",
    "scaler = StandardScaler()\n",
    "df_encoded[[\"age\", \"total_spent\", \"avg_spent\", \"txn_count\", \"product_count\"]] = scaler.fit_transform(\n",
    "    df_encoded[[\"age\", \"total_spent\", \"avg_spent\", \"txn_count\", \"product_count\"]]\n",
    ")"
   ]
  },
  {
   "cell_type": "code",
   "execution_count": null,
   "metadata": {},
   "outputs": [],
   "source": [
    "#7. Eliminar columnas no útiles\n",
    "drop_cols = [\"user_id\", \"occupation\", \"favorite_category\"]\n",
    "df_encoded = df_encoded.drop(columns=[col for col in drop_cols if col in df_encoded.columns])"
   ]
  },
  {
   "cell_type": "code",
   "execution_count": null,
   "metadata": {},
   "outputs": [],
   "source": [
    "#8. Guardar dataset final para modelado\n",
    "os.makedirs(\"data/processed\", exist_ok=True)\n",
    "df_encoded.to_csv(\"data/processed/final_dataset.csv\", index=False)\n",
    "\n",
    "print(\"✅ Dataset final preparado y guardado.\")\n",
    "df_encoded.head()"
   ]
  }
 ],
 "metadata": {
  "language_info": {
   "name": "python"
  }
 },
 "nbformat": 4,
 "nbformat_minor": 2
}
