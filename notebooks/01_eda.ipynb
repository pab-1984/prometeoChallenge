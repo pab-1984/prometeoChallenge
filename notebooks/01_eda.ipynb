{
 "cells": [
  {
   "cell_type": "markdown",
   "metadata": {},
   "source": [
    "# 01_eda.ipynb\n",
    "\n",
    "# ---------------------------------------------\n",
    "# Exploración de Datos - Open Banking Challenge\n",
    "# Autor: Pablo Flores\n",
    "# ---------------------------------------------"
   ]
  },
  {
   "cell_type": "code",
   "execution_count": null,
   "metadata": {},
   "outputs": [],
   "source": [
    "# 🔧 1. Importación de librerías\n",
    "import pandas as pd\n",
    "import matplotlib.pyplot as plt\n",
    "import seaborn as sns\n",
    "import os\n",
    "from src.data_preparation import load_datasets, preprocess_transactions, merge_datasets"
   ]
  },
  {
   "cell_type": "code",
   "execution_count": null,
   "metadata": {},
   "outputs": [],
   "source": [
    "# Estilos\n",
    "sns.set(style=\"whitegrid\")\n",
    "plt.rcParams[\"figure.figsize\"] = (12, 6)"
   ]
  },
  {
   "cell_type": "code",
   "execution_count": null,
   "metadata": {},
   "outputs": [],
   "source": [
    "# 2. Cargar datasets originales\n",
    "demo_path = \"data/raw/demographics.csv\"\n",
    "products_path = \"data/raw/products.csv\"\n",
    "trans_path = \"data/raw/transactions.csv\"\n",
    "\n",
    "demographics, products, transactions = load_datasets(demo_path, products_path, trans_path)"
   ]
  },
  {
   "cell_type": "code",
   "execution_count": null,
   "metadata": {},
   "outputs": [],
   "source": [
    "# 3. Preprocesamiento básico\n",
    "transactions = preprocess_transactions(transactions)"
   ]
  },
  {
   "cell_type": "code",
   "execution_count": null,
   "metadata": {},
   "outputs": [],
   "source": [
    "\n",
    "# 4. Unificación de los datos\n",
    "df_model = merge_datasets(demographics, transactions, products)\n"
   ]
  },
  {
   "cell_type": "code",
   "execution_count": null,
   "metadata": {},
   "outputs": [],
   "source": [
    "\n",
    "# Guardar dataset procesado\n",
    "os.makedirs(\"data/processed\", exist_ok=True)\n",
    "df_model.to_csv(\"data/processed/clientes_unificados.csv\", index=False)\n"
   ]
  },
  {
   "cell_type": "code",
   "execution_count": null,
   "metadata": {},
   "outputs": [],
   "source": [
    "\n",
    "# 5. Vista general del dataset unificado\n",
    "display(df_model.head())\n",
    "display(df_model.describe(include=\"all\"))\n"
   ]
  },
  {
   "cell_type": "code",
   "execution_count": null,
   "metadata": {},
   "outputs": [],
   "source": [
    "\n",
    "# 6. Análisis exploratorio de variables numéricas\n",
    "num_cols = [\"age\", \"total_spent\", \"avg_spent\", \"txn_count\"]\n",
    "df_model[num_cols].hist(bins=20, figsize=(12, 8))\n",
    "plt.suptitle(\"Distribuciones numéricas\", fontsize=16)\n",
    "plt.tight_layout()\n",
    "plt.show()"
   ]
  },
  {
   "cell_type": "code",
   "execution_count": null,
   "metadata": {},
   "outputs": [],
   "source": [
    "\n",
    "# 7. Gasto promedio por rango de ingreso\n",
    "sns.barplot(data=df_model, x=\"income_range\", y=\"avg_spent\", ci=None, order=[\"<30k\", \"30k-50k\", \"50k-100k\", \"100k-150k\", \">150k\"])\n",
    "plt.title(\"Gasto promedio mensual vs. ingreso declarado\")\n",
    "plt.xticks(rotation=45)\n",
    "plt.show()\n"
   ]
  },
  {
   "cell_type": "code",
   "execution_count": null,
   "metadata": {},
   "outputs": [],
   "source": [
    "# 8. ¿La edad influye en el total gastado?\n",
    "sns.scatterplot(data=df_model, x=\"age\", y=\"total_spent\", hue=\"risk_profile\")\n",
    "plt.title(\"Edad vs. gasto total - Segmentado por perfil de riesgo\")\n",
    "plt.show()"
   ]
  },
  {
   "cell_type": "code",
   "execution_count": null,
   "metadata": {},
   "outputs": [],
   "source": [
    "\n",
    "# 9. Distribución de categorías favoritas\n",
    "sns.countplot(data=df_model, y=\"favorite_category\", order=df_model[\"favorite_category\"].value_counts().index[:10])\n",
    "plt.title(\"Top 10 categorías favoritas de consumo\")\n",
    "plt.show()"
   ]
  },
  {
   "cell_type": "code",
   "execution_count": null,
   "metadata": {},
   "outputs": [],
   "source": [
    "\n",
    "# 10. Correlaciones\n",
    "corr = df_model[num_cols].corr()\n",
    "sns.heatmap(corr, annot=True, cmap=\"coolwarm\")\n",
    "plt.title(\"Correlación entre variables numéricas\")\n",
    "plt.show()"
   ]
  }
 ],
 "metadata": {
  "kernelspec": {
   "display_name": "3.11.0",
   "language": "python",
   "name": "python3"
  },
  "language_info": {
   "codemirror_mode": {
    "name": "ipython",
    "version": 3
   },
   "file_extension": ".py",
   "mimetype": "text/x-python",
   "name": "python",
   "nbconvert_exporter": "python",
   "pygments_lexer": "ipython3",
   "version": "3.11.0"
  }
 },
 "nbformat": 4,
 "nbformat_minor": 2
}
