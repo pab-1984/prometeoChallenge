{
 "cells": [
  {
   "cell_type": "code",
   "execution_count": null,
   "metadata": {},
   "outputs": [],
   "source": [
    "# 04_business_insights.ipynb\n",
    "\n",
    "# ---------------------------------------------\n",
    "# Recomendaciones de Negocio - Open Banking Challenge\n",
    "# Autor: Pablo Flores\n",
    "# ---------------------------------------------\n"
   ]
  },
  {
   "cell_type": "code",
   "execution_count": null,
   "metadata": {},
   "outputs": [],
   "source": [
    "# 1. Librerías necesarias\n",
    "import pandas as pd\n",
    "import seaborn as sns\n",
    "import matplotlib.pyplot as plt\n",
    "import joblib\n"
   ]
  },
  {
   "cell_type": "code",
   "execution_count": null,
   "metadata": {},
   "outputs": [],
   "source": [
    "# 2. Cargar datos y modelo\n",
    "df = pd.read_csv(\"data/processed/final_dataset.csv\")\n",
    "model = joblib.load(\"outputs/models/xgboost_model.pkl\")  # Cambiar según el mejor modelo guardado\n"
   ]
  },
  {
   "cell_type": "code",
   "execution_count": null,
   "metadata": {},
   "outputs": [],
   "source": [
    "# 3. Predecir probabilidades sobre todo el dataset\n",
    "X = df.drop(columns=[\"has_insurance\"])\n",
    "df[\"pred_proba\"] = model.predict_proba(X)[:, 1]\n"
   ]
  },
  {
   "cell_type": "code",
   "execution_count": null,
   "metadata": {},
   "outputs": [],
   "source": [
    "# 4. Distribución de probabilidades\n",
    "sns.histplot(df[\"pred_proba\"], bins=20, kde=True)\n",
    "plt.title(\"Distribución de probabilidad de contratar seguro\")\n",
    "plt.xlabel(\"Probabilidad estimada\")\n",
    "plt.ylabel(\"Número de clientes\")\n",
    "plt.show()"
   ]
  },
  {
   "cell_type": "code",
   "execution_count": null,
   "metadata": {},
   "outputs": [],
   "source": [
    "# 5. Top clientes para campaña\n",
    "top_clients = df.sort_values(\"pred_proba\", ascending=False).head(10)\n",
    "top_clients[[\"pred_proba\"] + [col for col in df.columns if col.startswith(\"income_range\") or col.startswith(\"risk_profile\")]]\n"
   ]
  },
  {
   "cell_type": "code",
   "execution_count": null,
   "metadata": {},
   "outputs": [],
   "source": [
    "# 6. Segmentación de clientes\n",
    "df[\"segment\"] = pd.cut(\n",
    "    df[\"pred_proba\"],\n",
    "    bins=[0, 0.3, 0.6, 1],\n",
    "    labels=[\"Bajo interés\", \"Interés medio\", \"Alto interés\"]\n",
    ")\n",
    "\n",
    "segment_counts = df[\"segment\"].value_counts().sort_index()\n",
    "sns.barplot(x=segment_counts.index, y=segment_counts.values)\n",
    "plt.title(\"Segmentación de clientes por propensión\")\n",
    "plt.ylabel(\"Número de clientes\")\n",
    "plt.xlabel(\"Segmento\")\n",
    "plt.show()"
   ]
  },
  {
   "cell_type": "code",
   "execution_count": null,
   "metadata": {},
   "outputs": [],
   "source": [
    "# 7. Análisis cruzado con perfil de riesgo\n",
    "seg_cross = pd.crosstab(df[\"segment\"], df.filter(like=\"risk_profile_\").idxmax(axis=1))\n",
    "seg_cross.plot(kind=\"bar\", stacked=True, colormap=\"Set2\")\n",
    "plt.title(\"Distribución del perfil de riesgo dentro de cada segmento\")\n",
    "plt.ylabel(\"Clientes\")\n",
    "plt.xlabel(\"Segmento de Propensión\")\n",
    "plt.xticks(rotation=0)\n",
    "plt.tight_layout()\n",
    "plt.show()"
   ]
  },
  {
   "cell_type": "code",
   "execution_count": null,
   "metadata": {},
   "outputs": [],
   "source": [
    "\n",
    "\n",
    "# 📌 8. Conclusiones y recomendaciones\n",
    "from IPython.display import Markdown\n",
    "Markdown(\"\"\"\n",
    "## Recomendaciones de Negocio\n",
    "\n",
    "- **Segmento de alto interés (60-100%)**: Representa el X% de la base. Este grupo debe ser **prioridad 1** para campañas dirigidas, especialmente si ya tienen productos de inversión o ahorro.\n",
    "- **Perfiles 'moderate' con ingresos medios-altos** dominan en el segmento alto de probabilidad.\n",
    "- La categoría de gasto más frecuente puede ser un excelente disparador para personalizar ofertas (por ejemplo, viajes → seguro de viaje).\n",
    "- Sugerencia: ofrecer un seguro empaquetado o con descuento a quienes ya tengan 2+ productos financieros.\n",
    "\n",
    "## Próximos pasos\n",
    "\n",
    "- Integrar el modelo en una API o dashboard para uso del equipo comercial.\n",
    "- Hacer seguimiento de la efectividad de las campañas y reentrenar el modelo periódicamente.\n",
    "\"\"\")\n"
   ]
  }
 ],
 "metadata": {
  "language_info": {
   "name": "python"
  }
 },
 "nbformat": 4,
 "nbformat_minor": 2
}
